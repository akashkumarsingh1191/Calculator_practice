{
 "cells": [
  {
   "cell_type": "code",
   "execution_count": 234,
   "id": "590caa29",
   "metadata": {},
   "outputs": [],
   "source": [
    "class History_Manager:\n",
    "    def __init__(self):\n",
    "        self.__records = []\n",
    "        \n",
    "    def record(self,num1, num2, operator, result, status):\n",
    "        self.__records.append(\n",
    "            {\n",
    "                \"Number 1\" : num1,\n",
    "                \"Operator\" : operator,\n",
    "                \"Number 2\" : num2,\n",
    "                \"Result\" : result,\n",
    "                \"Status\" : status\n",
    "            }\n",
    "        )\n",
    "    def display_history(self):\n",
    "        if not self.__records:\n",
    "            print(f'History is not Available..')\n",
    "        else:\n",
    "            print(f'.....Calculation History.....\\n')\n",
    "            for i, record in enumerate(self.__records,start = 1):\n",
    "                print(f\"[{i}] {record['Number 1']} {record['Operator']} {record['Number 2']} = {record['Result']} {record['Status']}\")\n",
    "                # print(f\"[{i}] {record['Number 1']} {record['Operator']} {record['Number 2']} = {record['Result']}\" f\"{{record['Status']} if record['Status'] else {record['Status']}}\")\n",
    "        # return self.__records\n",
    "    \n",
    "    def clear_history(self):\n",
    "        self.__records.clear()\n",
    "        return f'History is cleared..'\n",
    "\n",
    "    "
   ]
  },
  {
   "cell_type": "code",
   "execution_count": 235,
   "id": "b9f6011c",
   "metadata": {},
   "outputs": [],
   "source": [
    "import math\n",
    "\n",
    "class Operation:\n",
    "    def __init__(self, num1, num2):\n",
    "        try:\n",
    "            self.__first_number = float(num1)\n",
    "            self.__second_number = float(num2)\n",
    "        except ValueError as e:\n",
    "            print(f\"Error: {e}.Setting number to 0\")\n",
    "            self.__first_number = 0\n",
    "            self.__second_number = 0\n",
    "        self.__result = 0\n",
    "        self.records = []\n",
    "        # self.history = History_Manager()\n",
    "        # self.symbol = ''\n",
    "    \n",
    "    \n",
    "    def set_value(self, num1, num2):\n",
    "        try:\n",
    "            self.__first_number = float(num1)\n",
    "            self.__second_number = float(num2)\n",
    "        except ValueError:\n",
    "            self.__first_number = 0\n",
    "            self.__second_number = 0\n",
    "    \n",
    "    def addition(self):\n",
    "        # self.symbol = \"+\"\n",
    "        self.__result = self.__first_number + self.__second_number\n",
    "        return self.__result,True\n",
    "    \n",
    "    def subtraction(self):\n",
    "        # self.symbol = \"-\"\n",
    "        self.__result = self.__first_number - self.__second_number\n",
    "        return self.__result,True\n",
    "    \n",
    "    def multiplication(self):\n",
    "        # self.symbol = \"*\"\n",
    "        self.__result = self.__first_number * self.__second_number\n",
    "        return self.__result,True\n",
    "    \n",
    "    def division(self):\n",
    "        # self.symbol = \"/\"\n",
    "        try:\n",
    "            self.__result = self.__first_number / self.__second_number\n",
    "            return self.__result,True\n",
    "        except ZeroDivisionError:\n",
    "            self.__result = math.inf\n",
    "            return self.__result,False\n",
    "\n",
    "    def reminder(self):\n",
    "        # self.symbol = \"%\"\n",
    "        try:\n",
    "            self.__result = self.__first_number % self.__second_number\n",
    "            return self.__result, True\n",
    "        except ZeroDivisionError:\n",
    "            self.__result = math.inf\n",
    "            return self.__result,False"
   ]
  },
  {
   "cell_type": "code",
   "execution_count": 236,
   "id": "3109981d",
   "metadata": {},
   "outputs": [],
   "source": [
    "class Calculation:\n",
    "    def __init__(self, num1, num2, symbol):\n",
    "        self.__number1 = num1\n",
    "        self.__number2 = num2\n",
    "        self.symbol = symbol\n",
    "        self.__result = None\n",
    "        self.operation = Operation(self.__number1, self.__number2) #composition\n",
    "        self.history = History_Manager() #compositon\n",
    "\n",
    "    def __execute_and_history(self, operation_method):\n",
    "        try:\n",
    "            self.__result, self.status = operation_method()\n",
    "            self.history.record(self.__number1,self.__number2,self.symbol,self.__result,self.status)\n",
    "        except Exception as e:\n",
    "            self.__result = 0\n",
    "            self.status = False\n",
    "            self.history.record(self.__number1,self.__number2,self.symbol,self.__result,self.status)\n",
    "        return self.__result\n",
    "\n",
    "    @property\n",
    "    def result(self):\n",
    "        return self.__result\n",
    "\n",
    "    def reset_value(self):\n",
    "        # self.__first_number = 0\n",
    "        # self.__second_number = 0\n",
    "        self.__result = 0\n",
    "        # self.history.clear_history()\n",
    "        return f'Result reset..'\n",
    "\n",
    "    def set_value(self, symbol, new_value):\n",
    "        self.symbol = symbol\n",
    "        self.__number1 = 0 if self.__result is None or math.isinf(self.__result) else self.__result\n",
    "        try:\n",
    "            self.__number2 = float(new_value)\n",
    "            self.operation.set_value(self.__number1, self.__number2)\n",
    "            return True\n",
    "        except Exception as e:\n",
    "            print(f'Invalid Input,Second number is not updated')\n",
    "            self.__number2 = 0\n",
    "            self.operation.set_value(self.__number1, self.__number2)\n",
    "            return False  \n",
    "        \n",
    "    def backspace(self):\n",
    "        pass\n",
    "\n",
    "    def cal_operation(self):\n",
    "        if self.symbol == '+':\n",
    "            # self.__execute_and_history()\n",
    "            return self.__execute_and_history(self.operation.addition)\n",
    "        elif self.symbol == \"-\":\n",
    "            return self.__execute_and_history(self.operation.subtraction)\n",
    "        elif self.symbol == \"*\":\n",
    "            return self.__execute_and_history(self.operation.multiplication)\n",
    "        elif self.symbol == \"/\":\n",
    "            return self.__execute_and_history(self.operation.division)\n",
    "        elif self.symbol == \"%\":\n",
    "            return self.__execute_and_history(self.operation.reminder)\n",
    "        else:\n",
    "            return f\"Return valid operator...\"\n",
    "    \n",
    "    def clear_history(self):\n",
    "        return self.history.clear_history()\n"
   ]
  },
  {
   "cell_type": "code",
   "execution_count": 237,
   "id": "eeae2c26",
   "metadata": {},
   "outputs": [],
   "source": [
    "cal = Calculation(15,3,'/')"
   ]
  },
  {
   "cell_type": "code",
   "execution_count": 255,
   "id": "a249c38c",
   "metadata": {},
   "outputs": [
    {
     "data": {
      "text/plain": [
       "371.42857142857144"
      ]
     },
     "execution_count": 255,
     "metadata": {},
     "output_type": "execute_result"
    }
   ],
   "source": [
    "cal.cal_operation()"
   ]
  },
  {
   "cell_type": "code",
   "execution_count": 256,
   "id": "bc080923",
   "metadata": {},
   "outputs": [
    {
     "name": "stdout",
     "output_type": "stream",
     "text": [
      ".....Calculation History.....\n",
      "\n",
      "[1] 15 / 3 = 5.0 True\n",
      "[2] 5.0 * 10.0 = 50.0 True\n",
      "[3] 50.0 * 10.0 = 500.0 True\n",
      "[4] 500.0 / 7.0 = 71.42857142857143 True\n",
      "[5] 71.42857142857143 + 300.0 = 371.42857142857144 True\n"
     ]
    }
   ],
   "source": [
    "cal.history.display_history()"
   ]
  },
  {
   "cell_type": "code",
   "execution_count": 254,
   "id": "204b5346",
   "metadata": {},
   "outputs": [
    {
     "data": {
      "text/plain": [
       "True"
      ]
     },
     "execution_count": 254,
     "metadata": {},
     "output_type": "execute_result"
    }
   ],
   "source": [
    "cal.set_value(\"+\",300)"
   ]
  },
  {
   "cell_type": "code",
   "execution_count": 257,
   "id": "c955be7b",
   "metadata": {},
   "outputs": [
    {
     "data": {
      "text/plain": [
       "371.42857142857144"
      ]
     },
     "execution_count": 257,
     "metadata": {},
     "output_type": "execute_result"
    }
   ],
   "source": [
    "cal.result"
   ]
  },
  {
   "cell_type": "code",
   "execution_count": 186,
   "id": "56f9d599",
   "metadata": {},
   "outputs": [],
   "source": [
    "cal.clear_history()"
   ]
  },
  {
   "cell_type": "code",
   "execution_count": 188,
   "id": "de96ba62",
   "metadata": {},
   "outputs": [
    {
     "data": {
      "text/plain": [
       "'Result as well as History reset..'"
      ]
     },
     "execution_count": 188,
     "metadata": {},
     "output_type": "execute_result"
    }
   ],
   "source": [
    "cal.operation.reset_value()"
   ]
  }
 ],
 "metadata": {
  "kernelspec": {
   "display_name": "Python 3",
   "language": "python",
   "name": "python3"
  },
  "language_info": {
   "codemirror_mode": {
    "name": "ipython",
    "version": 3
   },
   "file_extension": ".py",
   "mimetype": "text/x-python",
   "name": "python",
   "nbconvert_exporter": "python",
   "pygments_lexer": "ipython3",
   "version": "3.9.0"
  }
 },
 "nbformat": 4,
 "nbformat_minor": 5
}
