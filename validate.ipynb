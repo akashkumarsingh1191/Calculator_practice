{
 "cells": [
  {
   "cell_type": "code",
   "execution_count": null,
   "id": "590caa29",
   "metadata": {},
   "outputs": [],
   "source": [
    "class History_Manager:\n",
    "    def __init__(self):\n",
    "        self.__records = []\n",
    "        \n",
    "    def record(self,num1, num2, operator, result, status):\n",
    "        self.__records.append(\n",
    "            {\n",
    "                \"Number 1\" : num1,\n",
    "                \"Operator\" : operator,\n",
    "                \"Number 2\" : num2,\n",
    "                \"Result\" : result,\n",
    "                \"Status\" : status\n",
    "            }\n",
    "        )\n",
    "    def display_history(self):\n",
    "        return self.__records\n",
    "    \n",
    "    def clear_history(self):\n",
    "        self.__records.clear()\n",
    "        return f'History is cleared..'\n",
    "    \n",
    "    "
   ]
  },
  {
   "cell_type": "code",
   "execution_count": null,
   "id": "b9f6011c",
   "metadata": {},
   "outputs": [],
   "source": [
    "import math\n",
    "\n",
    "class Operation:\n",
    "    def __init__(self, num1, num2):\n",
    "        try:\n",
    "            self.__first_number = float(num1)\n",
    "            self.__second_number = float(num2)\n",
    "        except ValueError as e:\n",
    "            print(f\"Error: {e}.Setting number to 0\")\n",
    "            self.__first_number = 0\n",
    "            self.__second_number = 0\n",
    "        self.__result = 0\n",
    "        self.records = []\n",
    "        self.history = History_Manager()\n",
    "        # self.symbol = ''\n",
    "    \n",
    "    def set_value(self,new_value):\n",
    "        try:\n",
    "            self.__first_number = 0 if math.isinf(self.__result) else self.__result\n",
    "        except Exception as e:\n",
    "            print(f'Not able to convert the previous result..')\n",
    "        try:\n",
    "            self.__second_number = float(new_value)\n",
    "            return True\n",
    "        except Exception as e:\n",
    "            print(f'Invalid Input,Second number is not updated')\n",
    "            self.__second_number = 0\n",
    "            return False\n",
    "    \n",
    "    def reset_value(self):\n",
    "        self.__first_number = 0\n",
    "        self.__second_number = 0\n",
    "        self.__result = 0\n",
    "        self.history.clear_history()\n",
    "        return f'Result as well as History reset..'\n",
    "    \n",
    "    def addition(self):\n",
    "        # self.symbol = \"+\"\n",
    "        self.__result = self.__first_number + self.__second_number\n",
    "        return self.__result,True\n",
    "    \n",
    "    def subtraction(self):\n",
    "        # self.symbol = \"-\"\n",
    "        self.__result = self.__first_number - self.__second_number\n",
    "        return self.__result,True\n",
    "    \n",
    "    def multiplication(self):\n",
    "        # self.symbol = \"*\"\n",
    "        self.__result = self.__first_number * self.__second_number\n",
    "        return self.__result,True\n",
    "    \n",
    "    def division(self):\n",
    "        # self.symbol = \"/\"\n",
    "        try:\n",
    "            self.__result = self.__first_number / self.__second_number\n",
    "            return self.__result,True\n",
    "        except ZeroDivisionError:\n",
    "            self.__result = math.inf\n",
    "            return self.__result,False\n",
    "\n",
    "    def reminder(self):\n",
    "        # self.symbol = \"%\"\n",
    "        try:\n",
    "            self.__result = self.__first_number % self.__second_number\n",
    "            return self.__result, True\n",
    "        except ZeroDivisionError:\n",
    "            self.__result = math.inf\n",
    "            return self.__result,False"
   ]
  },
  {
   "cell_type": "code",
   "execution_count": null,
   "id": "3109981d",
   "metadata": {},
   "outputs": [],
   "source": [
    "class Calculation:\n",
    "    def __init__(self, num1, num2, symbol):\n",
    "        self.number1 = num1\n",
    "        self.number2 = num2\n",
    "        self.symbol = symbol\n",
    "        self.operation = Operation(self.number1, self.number2) #composition\n",
    "        self.history = History_Manager() #compositon\n",
    "\n",
    "    def __execute_and_history(self, operation_method):\n",
    "        try:\n",
    "            self.result, self.status = operation_method()\n",
    "            self.history.record(self.number1,self.number2,self.symbol,self.result,self.status)\n",
    "        except Exception as e:\n",
    "            self.result = 0\n",
    "            self.history.record(self.number1,self.number2,self.symbol,self.result,self.status)\n",
    "        return self.result\n",
    "        \n",
    "\n",
    "    def cal_operation(self):\n",
    "        if self.symbol == '+':\n",
    "            # self.__execute_and_history()\n",
    "            return self.__execute_and_history(self.operation.addition)\n",
    "            # self.result, self.status = self.operation.addition()\n",
    "            # self.history.record(self.number1,self.number2,self.symbol,self.result,self.status)\n",
    "            # return self.result\n",
    "        elif self.symbol == \"-\":\n",
    "            return self.__execute_and_history(self.operation.subtraction)\n",
    "            # self.result, self.status  = self.operation.subtraction()\n",
    "            # self.history.record(self.number1,self.number2,self.symbol,self.result,self.status)\n",
    "            # return self.result\n",
    "        elif self.symbol == \"*\":\n",
    "            return self.__execute_and_history(self.operation.multiplication)\n",
    "            # self.result, self.status  = self.operation.multiplication()\n",
    "            # self.history.record(self.number1,self.number2,self.symbol,self.result,self.status)\n",
    "            # return self.result\n",
    "        elif self.symbol == \"/\":\n",
    "            return self.__execute_and_history(self.operation.division)\n",
    "            # self.result, self.status  = self.operation.division()\n",
    "            # self.history.record(self.number1,self.number2,self.symbol,self.result,self.status)\n",
    "            # return self.result\n",
    "        elif self.symbol == \"%\":\n",
    "            return self.__execute_and_history(self.operation.reminder)\n",
    "            # self.result, self.status  = self.operation.reminder()\n",
    "            # self.history.record(self.number1,self.number2,self.symbol,self.result,self.status)\n",
    "            # return self.result\n",
    "        else:\n",
    "            return f\"Return valid operator...\"\n",
    "    def clear_history(self):\n",
    "        self.history.clear_history()\n"
   ]
  },
  {
   "cell_type": "code",
   "execution_count": 61,
   "id": "eeae2c26",
   "metadata": {},
   "outputs": [],
   "source": [
    "cal = Calculation(15,32,'+')"
   ]
  },
  {
   "cell_type": "code",
   "execution_count": 62,
   "id": "a249c38c",
   "metadata": {},
   "outputs": [
    {
     "data": {
      "text/plain": [
       "47.0"
      ]
     },
     "execution_count": 62,
     "metadata": {},
     "output_type": "execute_result"
    }
   ],
   "source": [
    "cal.cal_operation()"
   ]
  },
  {
   "cell_type": "code",
   "execution_count": null,
   "id": "bc080923",
   "metadata": {},
   "outputs": [
    {
     "ename": "TypeError",
     "evalue": "record() missing 5 required positional arguments: 'num1', 'num2', 'operator', 'result', and 'status'",
     "output_type": "error",
     "traceback": [
      "\u001b[1;31m---------------------------------------------------------------------------\u001b[0m",
      "\u001b[1;31mTypeError\u001b[0m                                 Traceback (most recent call last)",
      "Cell \u001b[1;32mIn[66], line 1\u001b[0m\n\u001b[1;32m----> 1\u001b[0m \u001b[43mcal\u001b[49m\u001b[38;5;241;43m.\u001b[39;49m\u001b[43mhistory\u001b[49m\u001b[38;5;241;43m.\u001b[39;49m\u001b[43mrecord\u001b[49m\u001b[43m(\u001b[49m\u001b[43m)\u001b[49m\n",
      "\u001b[1;31mTypeError\u001b[0m: record() missing 5 required positional arguments: 'num1', 'num2', 'operator', 'result', and 'status'"
     ]
    }
   ],
   "source": []
  },
  {
   "cell_type": "code",
   "execution_count": null,
   "id": "56f9d599",
   "metadata": {},
   "outputs": [],
   "source": [
    "cal = Operation('abc',\"33\")"
   ]
  },
  {
   "cell_type": "code",
   "execution_count": null,
   "id": "75ddac94",
   "metadata": {},
   "outputs": [],
   "source": [
    "cal.addition()\n",
    "cal.subtraction()\n",
    "cal.multiplication()\n",
    "cal.division()\n",
    "cal.reminder()\n",
    "# cal.record()\n",
    "cal.history()"
   ]
  },
  {
   "cell_type": "code",
   "execution_count": null,
   "id": "19dbfdad",
   "metadata": {},
   "outputs": [],
   "source": []
  },
  {
   "cell_type": "code",
   "execution_count": null,
   "id": "b78acaa7",
   "metadata": {},
   "outputs": [],
   "source": []
  }
 ],
 "metadata": {
  "kernelspec": {
   "display_name": "Python 3",
   "language": "python",
   "name": "python3"
  },
  "language_info": {
   "codemirror_mode": {
    "name": "ipython",
    "version": 3
   },
   "file_extension": ".py",
   "mimetype": "text/x-python",
   "name": "python",
   "nbconvert_exporter": "python",
   "pygments_lexer": "ipython3",
   "version": "3.9.0"
  }
 },
 "nbformat": 4,
 "nbformat_minor": 5
}
