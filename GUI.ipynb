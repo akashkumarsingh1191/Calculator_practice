{
 "cells": [
  {
   "cell_type": "code",
   "execution_count": 1,
   "id": "9e0bf522",
   "metadata": {},
   "outputs": [],
   "source": [
    "import tkinter as tk\n",
    "from tkinter import *"
   ]
  },
  {
   "cell_type": "code",
   "execution_count": 196,
   "id": "8773f7e8",
   "metadata": {},
   "outputs": [],
   "source": [
    "root = tk.Tk()\n",
    "root.title('Calculator')\n",
    "root.geometry(\"400x400\")\n",
    "# label = tk.Label(root,text=\"0\",font=(\"Arial\",24),bg=\"black\",fg='white', width=71, anchor=\"e\")\n",
    "label = tk.Label(root, text=\"Akash Kumar Singh\", font=(\"Algerian\",26), bg=\"black\", fg='white', anchor=\"e\")\n",
    "label.grid(column=0, row=0, columnspan=4,sticky='NSEW')\n",
    "for i in range(4):\n",
    "    root.columnconfigure(i,weight=1)\n",
    "for i in range(6):\n",
    "    root.rowconfigure(i,weight=1)\n",
    "\n",
    "btn_1 = tk.Button(root,text=\"1\",font=(\"Algerian\",24),bg=\"black\",fg=\"white\")\n",
    "btn_1.grid(column=0,row=1,columnspan=1,rowspan=1,sticky=\"NSEW\")\n",
    "btn_2 = tk.Button(root,text=\"2\",font=(\"Algerian\",24),bg=\"black\",fg=\"white\")\n",
    "btn_2.grid(column=1,row=1,columnspan=1,rowspan=1,sticky=\"NSEW\")\n",
    "btn_3 = tk.Button(root,text=\"3\",font=(\"Algerian\",24),bg=\"black\",fg=\"white\")\n",
    "btn_3.grid(column=2,row=1,columnspan=1,rowspan=1,sticky=\"NSEW\")\n",
    "btn_d = tk.Button(root,text=\"/\",font=(\"Algerian\",24),bg=\"black\",fg=\"white\")\n",
    "btn_d.grid(column=3,row=1,columnspan=1,rowspan=1,sticky=\"NSEW\")\n",
    "btn_4 = tk.Button(root,text=\"4\",font=(\"Algerian\",24),bg='Black',fg='white')\n",
    "btn_4.grid(column=0,row=2,rowspan=1,columnspan=1,sticky=\"NSEW\")\n",
    "btn_5 = Button(root,text=\"5\",font=(\"Algerian\",24),bg=\"Black\",fg='white')\n",
    "btn_5.grid(column=1,row=2,rowspan=1,columnspan=1,sticky=\"NSEW\")\n",
    "btn_6 = Button(root,text=\"6\",font=(\"Algerian\",24),bg=\"Black\",fg='white')\n",
    "btn_6.grid(column=2,row=2,rowspan=1,columnspan=1,sticky=\"NSEW\")\n",
    "btn_mul = Button(root,text=\"*\",font=(\"Algerian\",24),bg=\"Black\",fg='white')\n",
    "btn_mul.grid(column=3,row=2,rowspan=1,columnspan=1,sticky=\"NSEW\")\n",
    "btn_7 = Button(root,text=\"7\",font=(\"Algerian\",24),bg=\"Black\",fg='white')\n",
    "btn_7.grid(column=0,row=3,rowspan=1,columnspan=1,sticky=\"NSEW\")\n",
    "btn_8 = Button(root,text=\"8\",font=(\"Algerian\",24),bg=\"Black\",fg='white')\n",
    "btn_8.grid(column=1,row=3,rowspan=1,columnspan=1,sticky=\"NSEW\")\n",
    "btn_9 = Button(root,text=\"9\",font=(\"Algerian\",24),bg=\"Black\",fg='white')\n",
    "btn_9.grid(column=2,row=3,rowspan=1,columnspan=1,sticky=\"NSEW\")\n",
    "btn_sub = Button(root,text=\"-\",font=(\"Algerian\",24),bg=\"Black\",fg='white')\n",
    "btn_sub.grid(column=3,row=3,rowspan=1,columnspan=1,sticky=\"NSEW\")\n",
    "btn_eq = Button(root,text=\"=\",font=(\"Algerian\",24),bg=\"Black\",fg='white')\n",
    "btn_eq.grid(column=2,row=4,rowspan=1,columnspan=1,sticky=\"NSEW\")\n",
    "btn_dec = Button(root,text=\".\",font=(\"Algerian\",24),bg=\"Black\",fg='white')\n",
    "btn_dec.grid(column=0,row=4,rowspan=1,columnspan=1,sticky=\"NSEW\")\n",
    "btn_add = Button(root,text=\"+\",font=(\"Algerian\",24),bg=\"Black\",fg='white')\n",
    "btn_add.grid(column=3,row=4,rowspan=1,columnspan=1,sticky=\"NSEW\")\n",
    "btn_0 = Button(root,text=\"0\",font=(\"Algerian\",24),bg=\"Black\",fg='white')\n",
    "btn_0.grid(column=1,row=4,rowspan=1,columnspan=1,sticky=\"NSEW\")\n",
    "btn_mod = Button(root,text=\"%\",font=(\"Algerian\",24),bg=\"Black\",fg='white')\n",
    "btn_mod.grid(column=1,row=5,rowspan=1,columnspan=1,sticky=\"NSEW\")\n",
    "root.mainloop()"
   ]
  },
  {
   "cell_type": "code",
   "execution_count": null,
   "id": "b757a619",
   "metadata": {},
   "outputs": [],
   "source": []
  },
  {
   "cell_type": "code",
   "execution_count": null,
   "id": "689c5160",
   "metadata": {},
   "outputs": [],
   "source": []
  }
 ],
 "metadata": {
  "kernelspec": {
   "display_name": "Python 3",
   "language": "python",
   "name": "python3"
  },
  "language_info": {
   "codemirror_mode": {
    "name": "ipython",
    "version": 3
   },
   "file_extension": ".py",
   "mimetype": "text/x-python",
   "name": "python",
   "nbconvert_exporter": "python",
   "pygments_lexer": "ipython3",
   "version": "3.9.0"
  }
 },
 "nbformat": 4,
 "nbformat_minor": 5
}
