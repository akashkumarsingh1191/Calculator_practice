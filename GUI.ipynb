{
 "cells": [
  {
   "cell_type": "code",
   "execution_count": 1,
   "id": "9e0bf522",
   "metadata": {},
   "outputs": [],
   "source": [
    "import tkinter as tk\n",
    "from tkinter import *"
   ]
  },
  {
   "cell_type": "code",
   "execution_count": 142,
   "id": "8773f7e8",
   "metadata": {},
   "outputs": [],
   "source": [
    "root = tk.Tk()\n",
    "root.title('Calculator')\n",
    "root.geometry(\"400x400\")\n",
    "# label = tk.Label(root,text=\"0\",font=(\"Arial\",24),bg=\"black\",fg='white', width=71, anchor=\"e\")\n",
    "label = tk.Label(root, text=\"Akash Kumar Singh\", font=(\"Algerian\",26), bg=\"black\", fg='white', anchor=\"e\")\n",
    "label.grid(column=0, row=0, columnspan=5, sticky='NSEW')\n",
    "for i in range(4):\n",
    "    root.columnconfigure(i,weight=1)\n",
    "root.rowconfigure(10,weight=1)\n",
    "\n",
    "btn_1 = tk.Button(root,text=\"1\",font=(\"Algerian\",24),bg=\"black\",fg=\"white\")\n",
    "btn_1.grid(column=0,row=1,columnspan=1,rowspan=1,sticky=\"NSEW\")\n",
    "btn_2 = tk.Button(root,text=\"2\",font=(\"Algerian\",24),bg=\"black\",fg=\"white\")\n",
    "btn_2.grid(column=1,row=1,columnspan=1,rowspan=1,sticky=\"NSEW\")\n",
    "btn_3 = tk.Button(root,text=\"3\",font=(\"Algerian\",24),bg=\"black\",fg=\"white\")\n",
    "btn_3.grid(column=2,row=1,columnspan=1,rowspan=1,sticky=\"NSEW\")\n",
    "btn_d = tk.Button(root,text=\"/\",font=(\"Algerian\",24),bg=\"black\",fg=\"white\")\n",
    "btn_d.grid(column=3,row=1,columnspan=1,rowspan=1,sticky=\"NSEW\")\n",
    "# label.pack()\n",
    "root.mainloop()"
   ]
  },
  {
   "cell_type": "code",
   "execution_count": null,
   "id": "b757a619",
   "metadata": {},
   "outputs": [],
   "source": []
  }
 ],
 "metadata": {
  "kernelspec": {
   "display_name": "Python 3",
   "language": "python",
   "name": "python3"
  },
  "language_info": {
   "codemirror_mode": {
    "name": "ipython",
    "version": 3
   },
   "file_extension": ".py",
   "mimetype": "text/x-python",
   "name": "python",
   "nbconvert_exporter": "python",
   "pygments_lexer": "ipython3",
   "version": "3.9.0"
  }
 },
 "nbformat": 4,
 "nbformat_minor": 5
}
